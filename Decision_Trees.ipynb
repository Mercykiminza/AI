{
  "nbformat": 4,
  "nbformat_minor": 0,
  "metadata": {
    "colab": {
      "provenance": [],
      "mount_file_id": "1WJ1wNtGRy8mlj2FCT0pXZ1BsFJSo6UzS",
      "authorship_tag": "ABX9TyO1apjrfanUtmabnckZ5yim",
      "include_colab_link": true
    },
    "kernelspec": {
      "name": "python3",
      "display_name": "Python 3"
    },
    "language_info": {
      "name": "python"
    }
  },
  "cells": [
    {
      "cell_type": "markdown",
      "metadata": {
        "id": "view-in-github",
        "colab_type": "text"
      },
      "source": [
        "<a href=\"https://colab.research.google.com/github/Mercykiminza/AI/blob/main/Decision_Trees.ipynb\" target=\"_parent\"><img src=\"https://colab.research.google.com/assets/colab-badge.svg\" alt=\"Open In Colab\"/></a>"
      ]
    },
    {
      "cell_type": "code",
      "execution_count": 2,
      "metadata": {
        "colab": {
          "base_uri": "https://localhost:8080/"
        },
        "id": "L9RTWB13uyTB",
        "outputId": "59c47fce-7c06-42bf-ff18-762312508ed5"
      },
      "outputs": [
        {
          "output_type": "stream",
          "name": "stderr",
          "text": [
            "<ipython-input-2-b3799f734b83>:9: FutureWarning: A value is trying to be set on a copy of a DataFrame or Series through chained assignment using an inplace method.\n",
            "The behavior will change in pandas 3.0. This inplace method will never work because the intermediate object on which we are setting values always behaves as a copy.\n",
            "\n",
            "For example, when doing 'df[col].method(value, inplace=True)', try using 'df.method({col: value}, inplace=True)' or df[col] = df[col].method(value) instead, to perform the operation inplace on the original object.\n",
            "\n",
            "\n",
            "  data['Age'].fillna(data['Age'].median(), inplace=True)\n",
            "<ipython-input-2-b3799f734b83>:13: FutureWarning: A value is trying to be set on a copy of a DataFrame or Series through chained assignment using an inplace method.\n",
            "The behavior will change in pandas 3.0. This inplace method will never work because the intermediate object on which we are setting values always behaves as a copy.\n",
            "\n",
            "For example, when doing 'df[col].method(value, inplace=True)', try using 'df.method({col: value}, inplace=True)' or df[col] = df[col].method(value) instead, to perform the operation inplace on the original object.\n",
            "\n",
            "\n",
            "  data['Fare'].fillna(data['Fare'].median(), inplace=True)\n"
          ]
        }
      ],
      "source": [
        "import numpy as np\n",
        "import pandas as pd\n",
        "from sklearn.model_selection import train_test_split\n",
        "\n",
        "# Load the dataset\n",
        "data = pd.read_csv('/content/drive/MyDrive/Datasets/train.csv')\n",
        "\n",
        "# Fill missing values in 'Age' with the median, and drop rows with missing 'Embarked'\n",
        "data['Age'].fillna(data['Age'].median(), inplace=True)\n",
        "data.dropna(subset=['Embarked'], inplace=True)\n",
        "\n",
        "# Fill missing 'Fare' (if any) with the median value\n",
        "data['Fare'].fillna(data['Fare'].median(), inplace=True)\n"
      ]
    },
    {
      "cell_type": "markdown",
      "source": [
        "**Convert categorical variables to numerical**"
      ],
      "metadata": {
        "id": "uD-Ke6UOwf7a"
      }
    },
    {
      "cell_type": "code",
      "source": [
        "data = pd.get_dummies(data, columns=['Sex', 'Embarked'], drop_first=True)\n"
      ],
      "metadata": {
        "id": "yNowRk0av6DW"
      },
      "execution_count": 3,
      "outputs": []
    },
    {
      "cell_type": "markdown",
      "source": [
        "**Select relevant features**"
      ],
      "metadata": {
        "id": "ba5Ww0HUwu85"
      }
    },
    {
      "cell_type": "code",
      "source": [
        "X = data[['Pclass', 'Sex_male', 'Age', 'SibSp', 'Parch', 'Fare']]\n",
        "y = data['Survived']\n",
        "\n",
        "# Split data into training and test sets\n",
        "X_train, X_test, y_train, y_test = train_test_split(X, y, test_size=0.2, random_state=42)\n"
      ],
      "metadata": {
        "id": "g0808ArUv_VB"
      },
      "execution_count": 4,
      "outputs": []
    },
    {
      "cell_type": "markdown",
      "source": [
        "**Implementing the Decision Tree Algorithm**"
      ],
      "metadata": {
        "id": "N1p9YQ-ww1eU"
      }
    },
    {
      "cell_type": "code",
      "source": [
        "class DecisionTreeClassifier:\n",
        "    def __init__(self, max_depth=None):\n",
        "        self.max_depth = max_depth\n",
        "        self.tree = None\n",
        "\n",
        "    def fit(self, X, y):\n",
        "        self.tree = self._build_tree(X, y, depth=0)\n",
        "\n",
        "    def predict(self, X):\n",
        "        return [self._predict_single(sample, self.tree) for _, sample in X.iterrows()]\n",
        "\n",
        "    def _calculate_entropy(self, y):\n",
        "        proportions = np.bincount(y) / len(y)\n",
        "        return -np.sum([p * np.log2(p) for p in proportions if p > 0])\n",
        "\n",
        "    def _split_data(self, X, y, feature, threshold):\n",
        "        left_mask = X[feature] <= threshold\n",
        "        right_mask = X[feature] > threshold\n",
        "        return X[left_mask], X[right_mask], y[left_mask], y[right_mask]\n",
        "\n",
        "    def _calculate_information_gain(self, parent, left_child, right_child):\n",
        "        p_left = len(left_child) / len(parent)\n",
        "        p_right = len(right_child) / len(parent)\n",
        "        gain = self._calculate_entropy(parent) - (p_left * self._calculate_entropy(left_child) + p_right * self._calculate_entropy(right_child))\n",
        "        return gain\n",
        "\n",
        "    def _find_best_split(self, X, y):\n",
        "        best_gain = -1\n",
        "        best_split = None\n",
        "        n_features = X.shape[1]\n",
        "        for feature in X.columns:\n",
        "            thresholds = X[feature].unique()\n",
        "            for threshold in thresholds:\n",
        "                X_left, X_right, y_left, y_right = self._split_data(X, y, feature, threshold)\n",
        "                if len(y_left) > 0 and len(y_right) > 0:\n",
        "                    gain = self._calculate_information_gain(y, y_left, y_right)\n",
        "                    if gain > best_gain:\n",
        "                        best_gain = gain\n",
        "                        best_split = {'feature': feature, 'threshold': threshold, 'left': (X_left, y_left), 'right': (X_right, y_right)}\n",
        "        return best_split\n",
        "\n",
        "    def _build_tree(self, X, y, depth):\n",
        "        if len(set(y)) == 1:\n",
        "            return y.iloc[0]\n",
        "        if self.max_depth is not None and depth >= self.max_depth:\n",
        "            return y.mode()[0]\n",
        "        split = self._find_best_split(X, y)\n",
        "        if split is None:\n",
        "            return y.mode()[0]\n",
        "        left_subtree = self._build_tree(split['left'][0], split['left'][1], depth + 1)\n",
        "        right_subtree = self._build_tree(split['right'][0], split['right'][1], depth + 1)\n",
        "        return {'feature': split['feature'], 'threshold': split['threshold'], 'left': left_subtree, 'right': right_subtree}\n",
        "\n",
        "    def _predict_single(self, sample, tree):\n",
        "        if not isinstance(tree, dict):\n",
        "            return tree\n",
        "        if sample[tree['feature']] <= tree['threshold']:\n",
        "            return self._predict_single(sample, tree['left'])\n",
        "        else:\n",
        "            return self._predict_single(sample, tree['right'])\n"
      ],
      "metadata": {
        "id": "uPCfdOVJwJ2W"
      },
      "execution_count": 5,
      "outputs": []
    },
    {
      "cell_type": "markdown",
      "source": [
        "**Training and Testing**"
      ],
      "metadata": {
        "id": "pR8swo48w7uI"
      }
    },
    {
      "cell_type": "code",
      "source": [
        "# Initialize the DecisionTreeClassifier and train\n",
        "clf = DecisionTreeClassifier(max_depth=3)  # You can experiment with max_depth\n",
        "clf.fit(X_train, y_train)\n",
        "\n",
        "# Predict on test data\n",
        "y_pred = clf.predict(X_test)\n",
        "\n",
        "# Calculate accuracy\n",
        "accuracy = np.mean(y_pred == y_test)\n",
        "print(f'Accuracy: {accuracy * 100:.2f}%')\n"
      ],
      "metadata": {
        "colab": {
          "base_uri": "https://localhost:8080/"
        },
        "id": "_6ly2iTmwR9K",
        "outputId": "16f399c3-3924-48a3-f136-38d0ad6df1d4"
      },
      "execution_count": 7,
      "outputs": [
        {
          "output_type": "stream",
          "name": "stdout",
          "text": [
            "Accuracy: 82.02%\n"
          ]
        }
      ]
    },
    {
      "cell_type": "markdown",
      "source": [
        "\n",
        "**Visualization (Bonus)**"
      ],
      "metadata": {
        "id": "2NpmPXDswcN-"
      }
    },
    {
      "cell_type": "code",
      "source": [
        "def print_tree(node, depth=0):\n",
        "    if isinstance(node, dict):\n",
        "        print(f\"{'  '*depth}Feature: {node['feature']} <= {node['threshold']}\")\n",
        "        print(f\"{'  '*depth}Left:\")\n",
        "        print_tree(node['left'], depth + 1)\n",
        "        print(f\"{'  '*depth}Right:\")\n",
        "        print_tree(node['right'], depth + 1)\n",
        "    else:\n",
        "        print(f\"{'  '*depth}Leaf: {node}\")\n",
        "\n",
        "# Print the trained decision tree\n",
        "print_tree(clf.tree)\n"
      ],
      "metadata": {
        "colab": {
          "base_uri": "https://localhost:8080/"
        },
        "id": "pPRn70FOxHhh",
        "outputId": "bf9a9031-894c-4712-b795-ae2c17eae164"
      },
      "execution_count": 9,
      "outputs": [
        {
          "output_type": "stream",
          "name": "stdout",
          "text": [
            "Feature: Sex_male <= False\n",
            "Left:\n",
            "  Feature: Pclass <= 2\n",
            "  Left:\n",
            "    Feature: Fare <= 28.7125\n",
            "    Left:\n",
            "      Leaf: 1\n",
            "    Right:\n",
            "      Leaf: 1\n",
            "  Right:\n",
            "    Feature: Fare <= 23.25\n",
            "    Left:\n",
            "      Leaf: 1\n",
            "    Right:\n",
            "      Leaf: 0\n",
            "Right:\n",
            "  Feature: Fare <= 26.25\n",
            "  Left:\n",
            "    Feature: Age <= 12.0\n",
            "    Left:\n",
            "      Leaf: 1\n",
            "    Right:\n",
            "      Leaf: 0\n",
            "  Right:\n",
            "    Feature: SibSp <= 2\n",
            "    Left:\n",
            "      Leaf: 0\n",
            "    Right:\n",
            "      Leaf: 0\n"
          ]
        }
      ]
    }
  ]
}